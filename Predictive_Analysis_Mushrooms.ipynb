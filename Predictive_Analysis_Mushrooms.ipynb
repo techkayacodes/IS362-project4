# Import necessary libraries
import pandas as pd
import numpy as np
from sklearn.model_selection import train_test_split
from sklearn.tree import DecisionTreeClassifier
from sklearn.metrics import accuracy_score
import matplotlib.pyplot as plt
import seaborn as sns

# Load the dataset
url = 'https://archive.ics.uci.edu/ml/machine-learning-databases/mushroom/agaricus-lepiota.data'
column_names = [
    'target', 'cap_shape', 'cap_surface', 'cap_color', 'bruises', 'odor', 
    'gill_attachment', 'gill_spacing', 'gill_size', 'gill_color', 
    'stalk_shape', 'stalk_root', 'stalk_surface_above_ring', 
    'stalk_surface_below_ring', 'stalk_color_above_ring', 
    'stalk_color_below_ring', 'veil_type', 'veil_color', 'ring_number', 
    'ring_type', 'spore_print_color', 'population', 'habitat'
]
df = pd.read_csv(url, names=column_names)

# Select a subset of columns for the analysis
subset_columns = ['target', 'odor', 'cap_color']
df_subset = df[subset_columns]

# Replace the codes used in the data with numeric values
code_mappings = {
    'target': {'e': 0, 'p': 1},
    'odor': {'a': 0, 'l': 1, 'c': 2, 'y': 3, 'f': 4, 'm': 5, 'n': 6, 'p': 7, 's': 8},
    'cap_color': {'n': 0, 'b': 1, 'c': 2, 'g': 3, 'r': 4, 'p': 5, 'u': 6, 'e': 7, 'w': 8, 'y': 9}
}
df_subset.replace(code_mappings, inplace=True)

# Convert categorical data to dummy variables
df_dummies = pd.get_dummies(df_subset, columns=['odor', 'cap_color'])

# Separate features and target variable
X = df_dummies.drop('target', axis=1)
y = df_dummies['target']

# Split the data into training and testing sets
X_train, X_test, y_train, y_test = train_test_split(X, y, test_size=0.3, random_state=42)

# Initialize and train the DecisionTreeClassifier
clf = DecisionTreeClassifier(random_state=42)
clf.fit(X_train, y_train)

# Make predictions on the test set
y_pred = clf.predict(X_test)

# Calculate the accuracy of the model
accuracy = accuracy_score(y_test, y_pred)
print(f"Accuracy of the model: {accuracy:.2f}")

# Feature importance
feature_importance = pd.DataFrame({'Feature': X.columns, 'Importance': clf.feature_importances_})
feature_importance = feature_importance.sort_values(by='Importance', ascending=False)

# Plot feature importance
plt.figure(figsize=(10, 6))
sns.barplot(x='Importance', y='Feature', data=feature_importance)
plt.title('Feature Importance')
plt.xlabel('Importance')
plt.ylabel('Feature')
plt.show()

# Conclusions
conclusions = """
Conclusions:
- The accuracy of the model is {0:.2f}, indicating that the model is fairly accurate in predicting whether a mushroom is poisonous or not based on the given features.
- The feature importance plot shows that 'odor' has a significant impact on the prediction, which is consistent with the scatterplot analysis from the previous assignment.
- 'Cap color' also contributes to the prediction but to a lesser extent compared to 'odor'.
- Further analysis could involve using other predictive models and comparing their performance, as well as exploring additional features from the dataset to improve accuracy.
""".format(accuracy)

print(conclusions)
